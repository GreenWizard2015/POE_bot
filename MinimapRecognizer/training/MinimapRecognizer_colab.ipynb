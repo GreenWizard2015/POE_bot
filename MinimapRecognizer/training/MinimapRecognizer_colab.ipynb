{
  "nbformat": 4,
  "nbformat_minor": 0,
  "metadata": {
    "colab": {
      "name": "MinimapRecognizer_colab.ipynb",
      "provenance": []
    },
    "kernelspec": {
      "name": "python3",
      "display_name": "Python 3"
    },
    "accelerator": "GPU"
  },
  "cells": [
    {
      "cell_type": "code",
      "metadata": {
        "id": "oCGTag_S7ssz",
        "colab_type": "code",
        "colab": {}
      },
      "source": [
        "!rm -rf POE_bot\n",
        "!git clone https://github.com/GreenWizard2015/POE_bot.git"
      ],
      "execution_count": null,
      "outputs": []
    },
    {
      "cell_type": "code",
      "metadata": {
        "id": "BQWrvBCZBOn6",
        "colab_type": "code",
        "colab": {}
      },
      "source": [
        "!python3 POE_bot/MinimapRecognizer/training/train.py"
      ],
      "execution_count": null,
      "outputs": []
    },
    {
      "cell_type": "code",
      "metadata": {
        "id": "iHW6pwdBEcRd",
        "colab_type": "code",
        "colab": {}
      },
      "source": [
        "!zip -r weigths.zip POE_bot/MinimapRecognizer/weights/\n",
        "from google.colab import files\n",
        "files.download(\"weigths.zip\")"
      ],
      "execution_count": null,
      "outputs": []
    }
  ]
}